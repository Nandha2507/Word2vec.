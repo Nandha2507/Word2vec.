{
 "cells": [
  {
   "cell_type": "code",
   "execution_count": 1,
   "metadata": {},
   "outputs": [],
   "source": [
    "import nltk"
   ]
  },
  {
   "cell_type": "code",
   "execution_count": 2,
   "metadata": {},
   "outputs": [],
   "source": [
    "from gensim.models import Word2Vec\n",
    "from nltk.corpus import stopwords"
   ]
  },
  {
   "cell_type": "code",
   "execution_count": 3,
   "metadata": {},
   "outputs": [],
   "source": [
    "import re"
   ]
  },
  {
   "cell_type": "code",
   "execution_count": 4,
   "metadata": {},
   "outputs": [],
   "source": [
    "paragraph = \"\"\"I have three visions for India. In 3000 years of our history, people from all over \n",
    "               the world have come and invaded us, captured our lands, conquered our minds. \n",
    "               From Alexander onwards, the Greeks, the Turks, the Moguls, the Portuguese, the British,\n",
    "               the French, the Dutch, all of them came and looted us, took over what was ours. \n",
    "               Yet we have not done this to any other nation. We have not conquered anyone. \n",
    "               We have not grabbed their land, their culture, \n",
    "               their history and tried to enforce our way of life on them. \n",
    "               Why? Because we respect the freedom of others.That is why my \n",
    "               first vision is that of freedom. I believe that India got its first vision of \n",
    "               this in 1857, when we started the War of Independence. It is this freedom that\n",
    "               we must protect and nurture and build on. If we are not free, no one will respect us.\n",
    "               My second vision for India’s development. For fifty years we have been a developing nation.\n",
    "               It is time we see ourselves as a developed nation. We are among the top 5 nations of the world\n",
    "               in terms of GDP. We have a 10 percent growth rate in most areas. Our poverty levels are falling.\n",
    "               Our achievements are being globally recognised today. Yet we lack the self-confidence to\n",
    "               see ourselves as a developed nation, self-reliant and self-assured. Isn’t this incorrect?\n",
    "               I have a third vision. India must stand up to the world. Because I believe that unless India \n",
    "               stands up to the world, no one will respect us. Only strength respects strength. We must be \n",
    "               strong not only as a military power but also as an economic power. Both must go hand-in-hand. \n",
    "               My good fortune was to have worked with three great minds. Dr. Vikram Sarabhai of the Dept. of \n",
    "               space, Professor Satish Dhawan, who succeeded him and Dr. Brahm Prakash, father of nuclear material.\n",
    "               I was lucky to have worked with all three of them closely and consider this the great opportunity of my life. \n",
    "               I see four milestones in my career\"\"\""
   ]
  },
  {
   "cell_type": "code",
   "execution_count": 5,
   "metadata": {},
   "outputs": [],
   "source": [
    "# Preprocessing the data\n",
    "text = re.sub(r'\\[[0-9]*\\]',' ',paragraph)\n",
    "text = re.sub(r'\\s+',' ',text)\n",
    "text = text.lower()\n",
    "text = re.sub(r'\\d',' ',text)\n",
    "text = re.sub(r'\\s+',' ',text)"
   ]
  },
  {
   "cell_type": "code",
   "execution_count": 6,
   "metadata": {},
   "outputs": [],
   "source": [
    "# Preparing the dataset\n",
    "sentences = nltk.sent_tokenize(text)"
   ]
  },
  {
   "cell_type": "code",
   "execution_count": 7,
   "metadata": {},
   "outputs": [],
   "source": [
    "# Converting sentences into words\n",
    "sentences = [nltk.word_tokenize(sentence) for sentence in sentences]"
   ]
  },
  {
   "cell_type": "code",
   "execution_count": 8,
   "metadata": {},
   "outputs": [],
   "source": [
    "# Removing the stop words\n",
    "for i in range(len(sentences)):\n",
    "    sentences[i] = [word for word in sentences[i] if word not in stopwords.words('english')]"
   ]
  },
  {
   "cell_type": "code",
   "execution_count": 16,
   "metadata": {},
   "outputs": [
    {
     "data": {
      "text/plain": [
       "[['three', 'visions', 'india', '.'],\n",
       " ['years',\n",
       "  'history',\n",
       "  ',',\n",
       "  'people',\n",
       "  'world',\n",
       "  'come',\n",
       "  'invaded',\n",
       "  'us',\n",
       "  ',',\n",
       "  'captured',\n",
       "  'lands',\n",
       "  ',',\n",
       "  'conquered',\n",
       "  'minds',\n",
       "  '.'],\n",
       " ['alexander',\n",
       "  'onwards',\n",
       "  ',',\n",
       "  'greeks',\n",
       "  ',',\n",
       "  'turks',\n",
       "  ',',\n",
       "  'moguls',\n",
       "  ',',\n",
       "  'portuguese',\n",
       "  ',',\n",
       "  'british',\n",
       "  ',',\n",
       "  'french',\n",
       "  ',',\n",
       "  'dutch',\n",
       "  ',',\n",
       "  'came',\n",
       "  'looted',\n",
       "  'us',\n",
       "  ',',\n",
       "  'took',\n",
       "  '.'],\n",
       " ['yet', 'done', 'nation', '.'],\n",
       " ['conquered', 'anyone', '.'],\n",
       " ['grabbed',\n",
       "  'land',\n",
       "  ',',\n",
       "  'culture',\n",
       "  ',',\n",
       "  'history',\n",
       "  'tried',\n",
       "  'enforce',\n",
       "  'way',\n",
       "  'life',\n",
       "  '.'],\n",
       " ['?'],\n",
       " ['respect', 'freedom', 'others.that', 'first', 'vision', 'freedom', '.'],\n",
       " ['believe',\n",
       "  'india',\n",
       "  'got',\n",
       "  'first',\n",
       "  'vision',\n",
       "  ',',\n",
       "  'started',\n",
       "  'war',\n",
       "  'independence',\n",
       "  '.'],\n",
       " ['freedom', 'must', 'protect', 'nurture', 'build', '.'],\n",
       " ['free', ',', 'one', 'respect', 'us', '.'],\n",
       " ['second', 'vision', 'india', '’', 'development', '.'],\n",
       " ['fifty', 'years', 'developing', 'nation', '.'],\n",
       " ['time', 'see', 'developed', 'nation', '.'],\n",
       " ['among', 'top', 'nations', 'world', 'terms', 'gdp', '.'],\n",
       " ['percent', 'growth', 'rate', 'areas', '.'],\n",
       " ['poverty', 'levels', 'falling', '.'],\n",
       " ['achievements', 'globally', 'recognised', 'today', '.'],\n",
       " ['yet',\n",
       "  'lack',\n",
       "  'self-confidence',\n",
       "  'see',\n",
       "  'developed',\n",
       "  'nation',\n",
       "  ',',\n",
       "  'self-reliant',\n",
       "  'self-assured',\n",
       "  '.'],\n",
       " ['’', 'incorrect', '?'],\n",
       " ['third', 'vision', '.'],\n",
       " ['india', 'must', 'stand', 'world', '.'],\n",
       " ['believe',\n",
       "  'unless',\n",
       "  'india',\n",
       "  'stands',\n",
       "  'world',\n",
       "  ',',\n",
       "  'one',\n",
       "  'respect',\n",
       "  'us',\n",
       "  '.'],\n",
       " ['strength', 'respects', 'strength', '.'],\n",
       " ['must', 'strong', 'military', 'power', 'also', 'economic', 'power', '.'],\n",
       " ['must', 'go', 'hand-in-hand', '.'],\n",
       " ['good', 'fortune', 'worked', 'three', 'great', 'minds', '.'],\n",
       " ['dr.', 'vikram', 'sarabhai', 'dept', '.'],\n",
       " ['space',\n",
       "  ',',\n",
       "  'professor',\n",
       "  'satish',\n",
       "  'dhawan',\n",
       "  ',',\n",
       "  'succeeded',\n",
       "  'dr.',\n",
       "  'brahm',\n",
       "  'prakash',\n",
       "  ',',\n",
       "  'father',\n",
       "  'nuclear',\n",
       "  'material',\n",
       "  '.'],\n",
       " ['lucky',\n",
       "  'worked',\n",
       "  'three',\n",
       "  'closely',\n",
       "  'consider',\n",
       "  'great',\n",
       "  'opportunity',\n",
       "  'life',\n",
       "  '.'],\n",
       " ['see', 'four', 'milestones', 'career']]"
      ]
     },
     "execution_count": 16,
     "metadata": {},
     "output_type": "execute_result"
    }
   ],
   "source": [
    "sentences"
   ]
  },
  {
   "cell_type": "code",
   "execution_count": 9,
   "metadata": {},
   "outputs": [],
   "source": [
    "# Training the Word2Vec model\n",
    "model = Word2Vec(sentences, min_count=1)"
   ]
  },
  {
   "cell_type": "code",
   "execution_count": 15,
   "metadata": {},
   "outputs": [
    {
     "data": {
      "text/plain": [
       "<gensim.models.word2vec.Word2Vec at 0x173b0adc148>"
      ]
     },
     "execution_count": 15,
     "metadata": {},
     "output_type": "execute_result"
    }
   ],
   "source": [
    "model"
   ]
  },
  {
   "cell_type": "code",
   "execution_count": 10,
   "metadata": {},
   "outputs": [],
   "source": [
    "\n",
    "words = model.wv.vocab"
   ]
  },
  {
   "cell_type": "code",
   "execution_count": 14,
   "metadata": {},
   "outputs": [
    {
     "data": {
      "text/plain": [
       "{'three': <gensim.models.keyedvectors.Vocab at 0x173b0adcc88>,\n",
       " 'visions': <gensim.models.keyedvectors.Vocab at 0x173b0adc648>,\n",
       " 'india': <gensim.models.keyedvectors.Vocab at 0x173b0adce88>,\n",
       " '.': <gensim.models.keyedvectors.Vocab at 0x173b0adca88>,\n",
       " 'years': <gensim.models.keyedvectors.Vocab at 0x173b0adcc08>,\n",
       " 'history': <gensim.models.keyedvectors.Vocab at 0x173b0adb488>,\n",
       " ',': <gensim.models.keyedvectors.Vocab at 0x173b0adb0c8>,\n",
       " 'people': <gensim.models.keyedvectors.Vocab at 0x173b0adb508>,\n",
       " 'world': <gensim.models.keyedvectors.Vocab at 0x173b0adc588>,\n",
       " 'come': <gensim.models.keyedvectors.Vocab at 0x173b0adbf88>,\n",
       " 'invaded': <gensim.models.keyedvectors.Vocab at 0x173b0adb908>,\n",
       " 'us': <gensim.models.keyedvectors.Vocab at 0x173b0adbf48>,\n",
       " 'captured': <gensim.models.keyedvectors.Vocab at 0x173b0adb108>,\n",
       " 'lands': <gensim.models.keyedvectors.Vocab at 0x173b0adb7c8>,\n",
       " 'conquered': <gensim.models.keyedvectors.Vocab at 0x173b0adb848>,\n",
       " 'minds': <gensim.models.keyedvectors.Vocab at 0x173b0adb548>,\n",
       " 'alexander': <gensim.models.keyedvectors.Vocab at 0x173b0adbb08>,\n",
       " 'onwards': <gensim.models.keyedvectors.Vocab at 0x173b0adbc48>,\n",
       " 'greeks': <gensim.models.keyedvectors.Vocab at 0x173b0adbe08>,\n",
       " 'turks': <gensim.models.keyedvectors.Vocab at 0x173b0adbe48>,\n",
       " 'moguls': <gensim.models.keyedvectors.Vocab at 0x173b0adb348>,\n",
       " 'portuguese': <gensim.models.keyedvectors.Vocab at 0x173b0adbac8>,\n",
       " 'british': <gensim.models.keyedvectors.Vocab at 0x173b0adbbc8>,\n",
       " 'french': <gensim.models.keyedvectors.Vocab at 0x173b0adb248>,\n",
       " 'dutch': <gensim.models.keyedvectors.Vocab at 0x173b0adb708>,\n",
       " 'came': <gensim.models.keyedvectors.Vocab at 0x173b0adbd08>,\n",
       " 'looted': <gensim.models.keyedvectors.Vocab at 0x173b0adb6c8>,\n",
       " 'took': <gensim.models.keyedvectors.Vocab at 0x173b0adbfc8>,\n",
       " 'yet': <gensim.models.keyedvectors.Vocab at 0x173b0adba08>,\n",
       " 'done': <gensim.models.keyedvectors.Vocab at 0x173b0adb8c8>,\n",
       " 'nation': <gensim.models.keyedvectors.Vocab at 0x173b0adb208>,\n",
       " 'anyone': <gensim.models.keyedvectors.Vocab at 0x173b0adb588>,\n",
       " 'grabbed': <gensim.models.keyedvectors.Vocab at 0x173b0adb3c8>,\n",
       " 'land': <gensim.models.keyedvectors.Vocab at 0x173b09887c8>,\n",
       " 'culture': <gensim.models.keyedvectors.Vocab at 0x173b0addcc8>,\n",
       " 'tried': <gensim.models.keyedvectors.Vocab at 0x173b0addd08>,\n",
       " 'enforce': <gensim.models.keyedvectors.Vocab at 0x173b0add448>,\n",
       " 'way': <gensim.models.keyedvectors.Vocab at 0x173b0adde48>,\n",
       " 'life': <gensim.models.keyedvectors.Vocab at 0x173b0addb88>,\n",
       " '?': <gensim.models.keyedvectors.Vocab at 0x173b0adda88>,\n",
       " 'respect': <gensim.models.keyedvectors.Vocab at 0x173b0addac8>,\n",
       " 'freedom': <gensim.models.keyedvectors.Vocab at 0x173b0add4c8>,\n",
       " 'others.that': <gensim.models.keyedvectors.Vocab at 0x173b0add748>,\n",
       " 'first': <gensim.models.keyedvectors.Vocab at 0x173b0add608>,\n",
       " 'vision': <gensim.models.keyedvectors.Vocab at 0x173b0add6c8>,\n",
       " 'believe': <gensim.models.keyedvectors.Vocab at 0x173b0add548>,\n",
       " 'got': <gensim.models.keyedvectors.Vocab at 0x173b0add688>,\n",
       " 'started': <gensim.models.keyedvectors.Vocab at 0x173b0add808>,\n",
       " 'war': <gensim.models.keyedvectors.Vocab at 0x173b0add5c8>,\n",
       " 'independence': <gensim.models.keyedvectors.Vocab at 0x173b0add7c8>,\n",
       " 'must': <gensim.models.keyedvectors.Vocab at 0x173b0add8c8>,\n",
       " 'protect': <gensim.models.keyedvectors.Vocab at 0x173b0add908>,\n",
       " 'nurture': <gensim.models.keyedvectors.Vocab at 0x173b0add108>,\n",
       " 'build': <gensim.models.keyedvectors.Vocab at 0x173b0add208>,\n",
       " 'free': <gensim.models.keyedvectors.Vocab at 0x173b0add048>,\n",
       " 'one': <gensim.models.keyedvectors.Vocab at 0x173b0add388>,\n",
       " 'second': <gensim.models.keyedvectors.Vocab at 0x173b0add248>,\n",
       " '’': <gensim.models.keyedvectors.Vocab at 0x173b0add508>,\n",
       " 'development': <gensim.models.keyedvectors.Vocab at 0x173b0adf388>,\n",
       " 'fifty': <gensim.models.keyedvectors.Vocab at 0x173b0adf408>,\n",
       " 'developing': <gensim.models.keyedvectors.Vocab at 0x173b0adf4c8>,\n",
       " 'time': <gensim.models.keyedvectors.Vocab at 0x173b0adf448>,\n",
       " 'see': <gensim.models.keyedvectors.Vocab at 0x173b0adf488>,\n",
       " 'developed': <gensim.models.keyedvectors.Vocab at 0x173b0adf3c8>,\n",
       " 'among': <gensim.models.keyedvectors.Vocab at 0x173b0adf308>,\n",
       " 'top': <gensim.models.keyedvectors.Vocab at 0x173b0adf348>,\n",
       " 'nations': <gensim.models.keyedvectors.Vocab at 0x173b0adf988>,\n",
       " 'terms': <gensim.models.keyedvectors.Vocab at 0x173b0adf688>,\n",
       " 'gdp': <gensim.models.keyedvectors.Vocab at 0x173b0adf5c8>,\n",
       " 'percent': <gensim.models.keyedvectors.Vocab at 0x173b0adff88>,\n",
       " 'growth': <gensim.models.keyedvectors.Vocab at 0x173b0adf6c8>,\n",
       " 'rate': <gensim.models.keyedvectors.Vocab at 0x173b0ae0348>,\n",
       " 'areas': <gensim.models.keyedvectors.Vocab at 0x173b0ae06c8>,\n",
       " 'poverty': <gensim.models.keyedvectors.Vocab at 0x173b0ae01c8>,\n",
       " 'levels': <gensim.models.keyedvectors.Vocab at 0x173b0ae0f48>,\n",
       " 'falling': <gensim.models.keyedvectors.Vocab at 0x173b0ae03c8>,\n",
       " 'achievements': <gensim.models.keyedvectors.Vocab at 0x173b0ae0548>,\n",
       " 'globally': <gensim.models.keyedvectors.Vocab at 0x173b0ae0648>,\n",
       " 'recognised': <gensim.models.keyedvectors.Vocab at 0x173b0ae05c8>,\n",
       " 'today': <gensim.models.keyedvectors.Vocab at 0x173b0ae0508>,\n",
       " 'lack': <gensim.models.keyedvectors.Vocab at 0x173b0ae0688>,\n",
       " 'self-confidence': <gensim.models.keyedvectors.Vocab at 0x173b0ae0608>,\n",
       " 'self-reliant': <gensim.models.keyedvectors.Vocab at 0x173b0ae0708>,\n",
       " 'self-assured': <gensim.models.keyedvectors.Vocab at 0x173b0ae0788>,\n",
       " 'incorrect': <gensim.models.keyedvectors.Vocab at 0x173b0ae0848>,\n",
       " 'third': <gensim.models.keyedvectors.Vocab at 0x173b0ae0588>,\n",
       " 'stand': <gensim.models.keyedvectors.Vocab at 0x173b0ae0248>,\n",
       " 'unless': <gensim.models.keyedvectors.Vocab at 0x173b0ae07c8>,\n",
       " 'stands': <gensim.models.keyedvectors.Vocab at 0x173b0ae08c8>,\n",
       " 'strength': <gensim.models.keyedvectors.Vocab at 0x173b0ae0888>,\n",
       " 'respects': <gensim.models.keyedvectors.Vocab at 0x173b0ae0448>,\n",
       " 'strong': <gensim.models.keyedvectors.Vocab at 0x173b0ae0a08>,\n",
       " 'military': <gensim.models.keyedvectors.Vocab at 0x173b0ae0408>,\n",
       " 'power': <gensim.models.keyedvectors.Vocab at 0x173b0ae0908>,\n",
       " 'also': <gensim.models.keyedvectors.Vocab at 0x173b0ae09c8>,\n",
       " 'economic': <gensim.models.keyedvectors.Vocab at 0x173b0ae0b08>,\n",
       " 'go': <gensim.models.keyedvectors.Vocab at 0x173b0ae0988>,\n",
       " 'hand-in-hand': <gensim.models.keyedvectors.Vocab at 0x173b0ae0948>,\n",
       " 'good': <gensim.models.keyedvectors.Vocab at 0x173b0ae0808>,\n",
       " 'fortune': <gensim.models.keyedvectors.Vocab at 0x173b0ae0c08>,\n",
       " 'worked': <gensim.models.keyedvectors.Vocab at 0x173b0ae0b88>,\n",
       " 'great': <gensim.models.keyedvectors.Vocab at 0x173b0ae0c48>,\n",
       " 'dr.': <gensim.models.keyedvectors.Vocab at 0x173b0ae0c88>,\n",
       " 'vikram': <gensim.models.keyedvectors.Vocab at 0x173b0ae0bc8>,\n",
       " 'sarabhai': <gensim.models.keyedvectors.Vocab at 0x173b0ae0a48>,\n",
       " 'dept': <gensim.models.keyedvectors.Vocab at 0x173b0ae0dc8>,\n",
       " 'space': <gensim.models.keyedvectors.Vocab at 0x173b0ae0d88>,\n",
       " 'professor': <gensim.models.keyedvectors.Vocab at 0x173b0ae0e08>,\n",
       " 'satish': <gensim.models.keyedvectors.Vocab at 0x173b0ae0d08>,\n",
       " 'dhawan': <gensim.models.keyedvectors.Vocab at 0x173b0ae0f08>,\n",
       " 'succeeded': <gensim.models.keyedvectors.Vocab at 0x173b0ae0e88>,\n",
       " 'brahm': <gensim.models.keyedvectors.Vocab at 0x173b0ae0cc8>,\n",
       " 'prakash': <gensim.models.keyedvectors.Vocab at 0x173b0ae0e48>,\n",
       " 'father': <gensim.models.keyedvectors.Vocab at 0x173b0ae0ac8>,\n",
       " 'nuclear': <gensim.models.keyedvectors.Vocab at 0x173b0ae0d48>,\n",
       " 'material': <gensim.models.keyedvectors.Vocab at 0x173b0ae0288>,\n",
       " 'lucky': <gensim.models.keyedvectors.Vocab at 0x173b0ae02c8>,\n",
       " 'closely': <gensim.models.keyedvectors.Vocab at 0x173b0ae0308>,\n",
       " 'consider': <gensim.models.keyedvectors.Vocab at 0x173b0ae0f88>,\n",
       " 'opportunity': <gensim.models.keyedvectors.Vocab at 0x173b0ae0a88>,\n",
       " 'four': <gensim.models.keyedvectors.Vocab at 0x173b0ae0fc8>,\n",
       " 'milestones': <gensim.models.keyedvectors.Vocab at 0x173b0ae0ec8>,\n",
       " 'career': <gensim.models.keyedvectors.Vocab at 0x173b0ae0388>}"
      ]
     },
     "execution_count": 14,
     "metadata": {},
     "output_type": "execute_result"
    }
   ],
   "source": [
    "words"
   ]
  },
  {
   "cell_type": "code",
   "execution_count": 11,
   "metadata": {},
   "outputs": [],
   "source": [
    "# Finding Word Vectors\n",
    "vector = model.wv['war']"
   ]
  },
  {
   "cell_type": "code",
   "execution_count": 12,
   "metadata": {},
   "outputs": [],
   "source": [
    "# Most similar words\n",
    "similar = model.wv.most_similar('vikram')"
   ]
  },
  {
   "cell_type": "code",
   "execution_count": 13,
   "metadata": {},
   "outputs": [
    {
     "data": {
      "text/plain": [
       "[('nations', 0.24445945024490356),\n",
       " ('growth', 0.2221614569425583),\n",
       " ('must', 0.19688521325588226),\n",
       " ('turks', 0.18956983089447021),\n",
       " ('gdp', 0.18250226974487305),\n",
       " ('see', 0.18195213377475739),\n",
       " ('believe', 0.18017998337745667),\n",
       " ('took', 0.17592757940292358),\n",
       " ('yet', 0.162845641374588),\n",
       " ('french', 0.1621706634759903)]"
      ]
     },
     "execution_count": 13,
     "metadata": {},
     "output_type": "execute_result"
    }
   ],
   "source": [
    "similar"
   ]
  },
  {
   "cell_type": "code",
   "execution_count": null,
   "metadata": {},
   "outputs": [],
   "source": []
  }
 ],
 "metadata": {
  "kernelspec": {
   "display_name": "Python 3",
   "language": "python",
   "name": "python3"
  },
  "language_info": {
   "codemirror_mode": {
    "name": "ipython",
    "version": 3
   },
   "file_extension": ".py",
   "mimetype": "text/x-python",
   "name": "python",
   "nbconvert_exporter": "python",
   "pygments_lexer": "ipython3",
   "version": "3.8.5"
  }
 },
 "nbformat": 4,
 "nbformat_minor": 2
}
